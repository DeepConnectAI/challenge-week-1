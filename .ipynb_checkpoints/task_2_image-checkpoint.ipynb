{
 "cells": [
  {
   "cell_type": "markdown",
   "metadata": {},
   "source": [
    "### Task Image:\n",
    "\n",
    "#### Dataset Link:\n",
    "RGB Dataset can be found at \" /data/rgb-images/ \" in the respective challenge's repo.<br>\n",
    "DICOM Dataset can be found at \" /data/dicom-images/ \" in the respective challenge's repo.\n",
    "\n",
    "#### Description:\n",
    "Images are needed to be preprocessed before feeding them into computer vision algorithms. Comman forms of image data are: 2D, RGB, dicom format, satellite images and 4D images. 2D images are grayscale images, RGB images are 3-channel representing color value of pixel, DICOM format is the standard for the communication and management of medical imaging information and related data, and 4D images (example - brain MRI) are slices of 3D images stacked on top of each other.\n",
    "\n",
    "#### Objective:\n",
    "How to load and process various formats of image for machine learning (Check out helpful links section to get hints)\n",
    "\n",
    "#### Tasks:\n",
    "- Read the rgb images provided and store their numerical representation in numpy array (matplotlib or PIL)\n",
    "- Plot 9th rgb image\n",
    "- Print dimensions of 12th image\n",
    "- Convert last 5 images to grayscale and plot them\n",
    "\n",
    "- Read the dicom images provided (dicom.read_file function)\n",
    "- Print numerical representation of image '0009.DCM' (dicom_img.pixel_array attribute)\n",
    "- Plot any dicom image (matplotlib.pyplot.imshow function)\n",
    "\n",
    "#### Further fun (will not be evaluated):\n",
    "- You already got familiar with complex unstructured data like rgb and dicom images, let's apply those skills to 2D images as well. Download the famous MNIST Dataset from https://www.kaggle.com/c/digit-recognizer/data . Read those 2D images and explore the data. Try out edge detection using sobel filter without using libraries other than numpy.\n",
    "- DICOM format contains much more information than just pixel values. Explore the data further.\n",
    "\n",
    "#### Helpful Links:\n",
    "- Awesome tutorial on image processing with numpy: http://www.degeneratestate.org/posts/2016/Oct/23/image-processing-with-numpy/\n",
    "- Understand pydicom data structure and images - https://www.kaggle.com/avirdee/understanding-dicoms"
   ]
  },
  {
   "cell_type": "code",
   "execution_count": null,
   "metadata": {},
   "outputs": [],
   "source": [
    "#import the required libraries\n",
    "#Use a command like \"pip install numpy\" in the Anaconda Command Prompt to install the required libraries in case they're not installed.\n",
    "import os\n",
    "import numpy as np\n",
    "import pandas as pd\n",
    "import pydicom\n",
    "import matplotlib.pyplot as plt\n",
    "#import PIL if and when required"
   ]
  },
  {
   "cell_type": "code",
   "execution_count": null,
   "metadata": {},
   "outputs": [],
   "source": []
  }
 ],
 "metadata": {
  "kernelspec": {
   "display_name": "Python 3",
   "language": "python",
   "name": "python3"
  },
  "language_info": {
   "codemirror_mode": {
    "name": "ipython",
    "version": 3
   },
   "file_extension": ".py",
   "mimetype": "text/x-python",
   "name": "python",
   "nbconvert_exporter": "python",
   "pygments_lexer": "ipython3",
   "version": "3.7.3"
  },
  "toc": {
   "base_numbering": 1,
   "nav_menu": {},
   "number_sections": true,
   "sideBar": true,
   "skip_h1_title": false,
   "title_cell": "Table of Contents",
   "title_sidebar": "Contents",
   "toc_cell": false,
   "toc_position": {},
   "toc_section_display": true,
   "toc_window_display": false
  }
 },
 "nbformat": 4,
 "nbformat_minor": 4
}
