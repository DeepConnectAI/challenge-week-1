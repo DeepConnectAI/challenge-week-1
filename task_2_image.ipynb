{
 "cells": [
  {
   "cell_type": "markdown",
   "metadata": {},
   "source": [
    "### Task Images"
   ]
  },
  {
   "cell_type": "markdown",
   "metadata": {},
   "source": [
    "#### Images are used for a lot of tasks like Computer Vision. Before we feed them to an algorithm, they need to be preprocessed.The following tasks are designed to make you familiar with the various formats, and how to manipulate them."
   ]
  },
  {
   "cell_type": "markdown",
   "metadata": {},
   "source": [
    "# <span style=\"color:blue\">The Image data is given in rgb-images and dicom-images folders.</span>"
   ]
  },
  {
   "cell_type": "markdown",
   "metadata": {},
   "source": [
    "# <span style=\"color:blue\">Tasks</span>\n",
    "## 1. Read the rgb images provided and print their numerical representation. (Use numpy, matplotlib and PIL(Optional))\n",
    "## (Use the first few sections of this article to get a hint.)\n",
    "## http://www.degeneratestate.org/posts/2016/Oct/23/image-processing-with-numpy/"
   ]
  },
  {
   "cell_type": "markdown",
   "metadata": {},
   "source": [
    "## 2. Read the dicom images provided and print their numerical representation. (Use numpy, pydicom and matplotlib)\n",
    "## <span style=\"color:blue\">To be noted: </span> DICOM is the standard for the communication and management of medical imaging information and related data.\n",
    "## Pydicom Documentation - https://pydicom.github.io/"
   ]
  },
  {
   "cell_type": "markdown",
   "metadata": {},
   "source": [
    "## 3. Download the famous MNIST Dataset from https://www.kaggle.com/c/digit-recognizer/data . Read the 2d images and print their dimensions. (Use numpy, matplotlib and PIL(Optional))\n",
    "\n",
    "# - - - - - - - - - - - - - - - - - - - - "
   ]
  },
  {
   "cell_type": "markdown",
   "metadata": {},
   "source": [
    "# <span style=\"color:blue\">Ask Yourself (Optional) - </span>\n",
    "## - What's the difference between normalization and standardization? How do we choose between them?\n",
    "## - Why do we do One Hot Encoding and Feature Scaling?\n"
   ]
  },
  {
   "cell_type": "markdown",
   "metadata": {},
   "source": [
    "# - - - - - - - - - - - - - - - - - - - - "
   ]
  },
  {
   "cell_type": "code",
   "execution_count": 2,
   "metadata": {},
   "outputs": [],
   "source": [
    "#import the required libraries\n",
    "#Use a command like \"pip install numpy\" in the Anaconda Command Prompt to install the required libraries in case they're not installed.\n",
    "import numpy as np\n",
    "import matplotlib.pyplot as plt\n",
    "#import PIL if and when required"
   ]
  },
  {
   "cell_type": "code",
   "execution_count": null,
   "metadata": {},
   "outputs": [],
   "source": []
  }
 ],
 "metadata": {
  "kernelspec": {
   "display_name": "Python 3",
   "language": "python",
   "name": "python3"
  },
  "language_info": {
   "codemirror_mode": {
    "name": "ipython",
    "version": 3
   },
   "file_extension": ".py",
   "mimetype": "text/x-python",
   "name": "python",
   "nbconvert_exporter": "python",
   "pygments_lexer": "ipython3",
   "version": "3.7.6"
  }
 },
 "nbformat": 4,
 "nbformat_minor": 4
}
