{
 "cells": [
  {
   "cell_type": "markdown",
   "metadata": {},
   "source": [
    "### Task Structured Tabular Data:\n",
    "\n",
    "#### Dataset Link:\n",
    "Dataset can be found at \" /data/structured_data/data.csv \" in the respective challenge's repo.\n",
    "\n",
    "#### Description:\n",
    "Tabular data is usually given in csv format (comma-separated-value). CSV files can be read and manipulated using pandas and numpy library in python. Most common datatypes in structured data are 'numerical' and 'categorical' data. Data processing is required to handle missing values, inconsistent string formats, missing commas, categorical variables and other different kinds of data inadequacies that you will get to experience in this course. \n",
    "\n",
    "#### Objective:\n",
    "How to process and manipulate basic structured data for machine learning (Check out helpful links section to get hints)\n",
    "\n",
    "#### Tasks:\n",
    "- Load the csv file (pandas.read_csv function)\n",
    "- Classify columns into two groups - numerical and categorifun cal. Print column names for each group.\n",
    "- Print first 10 rows after handling missing values\n",
    "- One-Hot encode the categorical data\n",
    "- Standarize or normalize the numerical columns\n",
    "\n",
    "#### Ask yourself:\n",
    "\n",
    "- Why do we need feature encoding and scaling techniques?\n",
    "- What is ordinal data and should we one-hot encode ordinal data? Are any better ways to encode it?\n",
    "- What's the difference between normalization and standardization? Which technique is most suitable for this sample dataset?\n",
    "- Can you solve the level-up challenge: Complete all the above tasks without using scikit-learn library ?\n",
    "\n",
    "#### Helpful Links:\n",
    "- Nice introduction to handle missing values: https://analyticsindiamag.com/5-ways-handle-missing-values-machine-learning-datasets/\n",
    "- Scikit-learn documentation for one hot encoding: https://scikit-learn.org/stable/modules/generated/sklearn.preprocessing.OneHotEncoder.html\n",
    "- Difference between normalization and standardization: https://medium.com/towards-artificial-intelligence/how-when-and-why-should-you-normalize-standardize-rescale-your-data-3f083def38ff"
   ]
  },
  {
   "cell_type": "code",
   "execution_count": 8,
   "metadata": {},
   "outputs": [],
   "source": [
    "#import the required libraries\n",
    "#Use a command like \"pip install numpy\" in the Anaconda Command Prompt to install the required libraries in case they're not installed.\n",
    "import numpy as np\n",
    "import pandas as pd\n",
    "#import sklearn if and when required"
   ]
  },
  {
   "cell_type": "code",
   "execution_count": null,
   "metadata": {},
   "outputs": [],
   "source": []
  }
 ],
 "metadata": {
  "kernelspec": {
   "display_name": "Python 3",
   "language": "python",
   "name": "python3"
  },
  "language_info": {
   "codemirror_mode": {
    "name": "ipython",
    "version": 3
   },
   "file_extension": ".py",
   "mimetype": "text/x-python",
   "name": "python",
   "nbconvert_exporter": "python",
   "pygments_lexer": "ipython3",
   "version": "3.7.3"
  },
  "toc": {
   "base_numbering": 1,
   "nav_menu": {},
   "number_sections": true,
   "sideBar": true,
   "skip_h1_title": false,
   "title_cell": "Table of Contents",
   "title_sidebar": "Contents",
   "toc_cell": false,
   "toc_position": {},
   "toc_section_display": true,
   "toc_window_display": false
  }
 },
 "nbformat": 4,
 "nbformat_minor": 4
}
