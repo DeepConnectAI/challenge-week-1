{
 "cells": [
  {
   "cell_type": "markdown",
   "metadata": {},
   "source": [
    "# - - - - - - - - - - - - - - - - - - - - "
   ]
  },
  {
   "cell_type": "markdown",
   "metadata": {},
   "source": [
    "# <span style=\"color:blue\">TABULAR</span>"
   ]
  },
  {
   "cell_type": "markdown",
   "metadata": {},
   "source": [
    "## Tabular data is usally given in csv format. CSV files can be read easily using Pandas. \n",
    "## Operations can be done on it using pandas and numpy."
   ]
  },
  {
   "cell_type": "markdown",
   "metadata": {},
   "source": [
    "# <span style=\"color:blue\">The data is given in the data.csv file.</span>\n",
    "## - There are two types of variables you’ll find in your data – numerical and categorical. \n",
    "## - Numerical data can be divided into continuous or discrete values."
   ]
  },
  {
   "cell_type": "markdown",
   "metadata": {},
   "source": [
    "# - - - - - - - - - - - - - - - - - - - - "
   ]
  },
  {
   "cell_type": "markdown",
   "metadata": {},
   "source": [
    "# <span style=\"color:blue\">Tasks</span>\n",
    "## 1. Identify the different types of numerical and categorical variables and classify them. (write them in a markdown cell)"
   ]
  },
  {
   "cell_type": "markdown",
   "metadata": {},
   "source": [
    "## 2. Load the csv file (use pandas)"
   ]
  },
  {
   "cell_type": "markdown",
   "metadata": {},
   "source": [
    "## 3. Deal with the missing values (use pandas)\n",
    "## (There are various ways to deal with missing data. Take a look at the following article to decide which one is most suitable for the given dataset(Hint: This is a small dataset)) \n",
    "## https://analyticsindiamag.com/5-ways-handle-missing-values-machine-learning-datasets/#:~:text=Replacing%20With%20Mean%2FMedian%2FMode,variance%20to%20the%20data%20set."
   ]
  },
  {
   "cell_type": "markdown",
   "metadata": {},
   "source": [
    "## 4. One Hot Encode the categorical data (use sklearn)\n",
    "## (Take a look at the following sklearn documentation)\n",
    "## https://scikit-learn.org/stable/modules/generated/sklearn.preprocessing.OneHotEncoder.html\n",
    "### <span style=\"color:blue\">Note: </span> What is Ordinal Data and should we One Hot Encode Ordinal Data?"
   ]
  },
  {
   "cell_type": "markdown",
   "metadata": {},
   "source": [
    "## 5. Normalize the numerical columns (Try to use numpy, sklearn can also be used)\n",
    "\n",
    "# - - - - - - - - - - - - - - - - - - - - "
   ]
  },
  {
   "cell_type": "markdown",
   "metadata": {},
   "source": [
    "# <span style=\"color:blue\">Ask Yourself (Optional) - </span>\n",
    "## - Try to manipulate the channels on rgb images by converting it to grayscale.\n",
    "## - Download the 3D MNIST Dataset from https://www.kaggle.com/daavoo/3d-mnist. Read a few 3d images and print their dimensions.\n"
   ]
  },
  {
   "cell_type": "markdown",
   "metadata": {},
   "source": [
    "# - - - - - - - - - - - - - - - - - - - - "
   ]
  },
  {
   "cell_type": "code",
   "execution_count": 8,
   "metadata": {},
   "outputs": [],
   "source": [
    "#import the required libraries\n",
    "#Use a command like \"pip install numpy\" in the Anaconda Command Prompt to install the required libraries in case they're not installed.\n",
    "import numpy as np\n",
    "import pandas as pd\n",
    "#import sklearn if and when required"
   ]
  },
  {
   "cell_type": "code",
   "execution_count": null,
   "metadata": {},
   "outputs": [],
   "source": []
  }
 ],
 "metadata": {
  "kernelspec": {
   "display_name": "Python 3",
   "language": "python",
   "name": "python3"
  },
  "language_info": {
   "codemirror_mode": {
    "name": "ipython",
    "version": 3
   },
   "file_extension": ".py",
   "mimetype": "text/x-python",
   "name": "python",
   "nbconvert_exporter": "python",
   "pygments_lexer": "ipython3",
   "version": "3.7.6"
  }
 },
 "nbformat": 4,
 "nbformat_minor": 4
}
